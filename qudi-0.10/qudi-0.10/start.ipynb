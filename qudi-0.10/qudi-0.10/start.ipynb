{
 "cells": [
  {
   "cell_type": "code",
   "execution_count": 3,
   "id": "8921302f",
   "metadata": {},
   "outputs": [
    {
     "ename": "UnsupportedOperation",
     "evalue": "fileno",
     "output_type": "error",
     "traceback": [
      "\u001b[1;31m---------------------------------------------------------------------------\u001b[0m",
      "\u001b[1;31mUnsupportedOperation\u001b[0m                      Traceback (most recent call last)",
      "\u001b[1;32mc:\\Users\\USER\\Desktop\\QudiProject\\qudi-0.10\\qudi-0.10\\start.ipynb Cell 1'\u001b[0m in \u001b[0;36m<cell line: 50>\u001b[1;34m()\u001b[0m\n\u001b[0;32m     <a href='vscode-notebook-cell:/c%3A/Users/USER/Desktop/QudiProject/qudi-0.10/qudi-0.10/start.ipynb#ch0000000?line=47'>48</a>\u001b[0m argv \u001b[39m=\u001b[39m [sys\u001b[39m.\u001b[39mexecutable, \u001b[39m'\u001b[39m\u001b[39m-m\u001b[39m\u001b[39m'\u001b[39m, \u001b[39m'\u001b[39m\u001b[39mcore\u001b[39m\u001b[39m'\u001b[39m] \u001b[39m+\u001b[39m sys\u001b[39m.\u001b[39margv[\u001b[39m1\u001b[39m:]\n\u001b[0;32m     <a href='vscode-notebook-cell:/c%3A/Users/USER/Desktop/QudiProject/qudi-0.10/qudi-0.10/start.ipynb#ch0000000?line=49'>50</a>\u001b[0m \u001b[39mwhile\u001b[39;00m \u001b[39mTrue\u001b[39;00m:\n\u001b[1;32m---> <a href='vscode-notebook-cell:/c%3A/Users/USER/Desktop/QudiProject/qudi-0.10/qudi-0.10/start.ipynb#ch0000000?line=50'>51</a>\u001b[0m     process \u001b[39m=\u001b[39m subprocess\u001b[39m.\u001b[39;49mPopen(\n\u001b[0;32m     <a href='vscode-notebook-cell:/c%3A/Users/USER/Desktop/QudiProject/qudi-0.10/qudi-0.10/start.ipynb#ch0000000?line=51'>52</a>\u001b[0m         argv,\n\u001b[0;32m     <a href='vscode-notebook-cell:/c%3A/Users/USER/Desktop/QudiProject/qudi-0.10/qudi-0.10/start.ipynb#ch0000000?line=52'>53</a>\u001b[0m         close_fds\u001b[39m=\u001b[39;49m\u001b[39mFalse\u001b[39;49;00m,\n\u001b[0;32m     <a href='vscode-notebook-cell:/c%3A/Users/USER/Desktop/QudiProject/qudi-0.10/qudi-0.10/start.ipynb#ch0000000?line=53'>54</a>\u001b[0m         env\u001b[39m=\u001b[39;49mmyenv,\n\u001b[0;32m     <a href='vscode-notebook-cell:/c%3A/Users/USER/Desktop/QudiProject/qudi-0.10/qudi-0.10/start.ipynb#ch0000000?line=54'>55</a>\u001b[0m         stdin\u001b[39m=\u001b[39;49msys\u001b[39m.\u001b[39;49mstdin,\n\u001b[0;32m     <a href='vscode-notebook-cell:/c%3A/Users/USER/Desktop/QudiProject/qudi-0.10/qudi-0.10/start.ipynb#ch0000000?line=55'>56</a>\u001b[0m         stdout\u001b[39m=\u001b[39;49msys\u001b[39m.\u001b[39;49mstdout,\n\u001b[0;32m     <a href='vscode-notebook-cell:/c%3A/Users/USER/Desktop/QudiProject/qudi-0.10/qudi-0.10/start.ipynb#ch0000000?line=56'>57</a>\u001b[0m         stderr\u001b[39m=\u001b[39;49msys\u001b[39m.\u001b[39;49mstderr,\n\u001b[0;32m     <a href='vscode-notebook-cell:/c%3A/Users/USER/Desktop/QudiProject/qudi-0.10/qudi-0.10/start.ipynb#ch0000000?line=57'>58</a>\u001b[0m         shell\u001b[39m=\u001b[39;49m\u001b[39mFalse\u001b[39;49;00m)\n\u001b[0;32m     <a href='vscode-notebook-cell:/c%3A/Users/USER/Desktop/QudiProject/qudi-0.10/qudi-0.10/start.ipynb#ch0000000?line=58'>59</a>\u001b[0m     \u001b[39m# if sys.platform == 'win32':\u001b[39;00m\n\u001b[0;32m     <a href='vscode-notebook-cell:/c%3A/Users/USER/Desktop/QudiProject/qudi-0.10/qudi-0.10/start.ipynb#ch0000000?line=59'>60</a>\u001b[0m     \u001b[39m#     # Attach the interrupt event to the Popen objet so it can be used later.\u001b[39;00m\n\u001b[0;32m     <a href='vscode-notebook-cell:/c%3A/Users/USER/Desktop/QudiProject/qudi-0.10/qudi-0.10/start.ipynb#ch0000000?line=60'>61</a>\u001b[0m     \u001b[39m#     process.win32_interrupt_event = interrupt_event\u001b[39;00m\n\u001b[0;32m     <a href='vscode-notebook-cell:/c%3A/Users/USER/Desktop/QudiProject/qudi-0.10/qudi-0.10/start.ipynb#ch0000000?line=61'>62</a>\u001b[0m     \u001b[39mtry\u001b[39;00m:\n",
      "File \u001b[1;32mc:\\Users\\USER\\anaconda3\\envs\\Qudisg\\lib\\subprocess.py:832\u001b[0m, in \u001b[0;36mPopen.__init__\u001b[1;34m(self, args, bufsize, executable, stdin, stdout, stderr, preexec_fn, close_fds, shell, cwd, env, universal_newlines, startupinfo, creationflags, restore_signals, start_new_session, pass_fds, user, group, extra_groups, encoding, errors, text, umask, pipesize)\u001b[0m\n\u001b[0;32m    811\u001b[0m     \u001b[39mraise\u001b[39;00m SubprocessError(\u001b[39m'\u001b[39m\u001b[39mCannot disambiguate when both text \u001b[39m\u001b[39m'\u001b[39m\n\u001b[0;32m    812\u001b[0m                           \u001b[39m'\u001b[39m\u001b[39mand universal_newlines are supplied but \u001b[39m\u001b[39m'\u001b[39m\n\u001b[0;32m    813\u001b[0m                           \u001b[39m'\u001b[39m\u001b[39mdifferent. Pass one or the other.\u001b[39m\u001b[39m'\u001b[39m)\n\u001b[0;32m    815\u001b[0m \u001b[39m# Input and output objects. The general principle is like\u001b[39;00m\n\u001b[0;32m    816\u001b[0m \u001b[39m# this:\u001b[39;00m\n\u001b[0;32m    817\u001b[0m \u001b[39m#\u001b[39;00m\n\u001b[1;32m   (...)\u001b[0m\n\u001b[0;32m    827\u001b[0m \u001b[39m# are -1 when not using PIPEs. The child objects are -1\u001b[39;00m\n\u001b[0;32m    828\u001b[0m \u001b[39m# when not redirecting.\u001b[39;00m\n\u001b[0;32m    830\u001b[0m (p2cread, p2cwrite,\n\u001b[0;32m    831\u001b[0m  c2pread, c2pwrite,\n\u001b[1;32m--> 832\u001b[0m  errread, errwrite) \u001b[39m=\u001b[39m \u001b[39mself\u001b[39;49m\u001b[39m.\u001b[39;49m_get_handles(stdin, stdout, stderr)\n\u001b[0;32m    834\u001b[0m \u001b[39m# We wrap OS handles *before* launching the child, otherwise a\u001b[39;00m\n\u001b[0;32m    835\u001b[0m \u001b[39m# quickly terminating child could make our fds unwrappable\u001b[39;00m\n\u001b[0;32m    836\u001b[0m \u001b[39m# (see #8458).\u001b[39;00m\n\u001b[0;32m    838\u001b[0m \u001b[39mif\u001b[39;00m _mswindows:\n",
      "File \u001b[1;32mc:\\Users\\USER\\anaconda3\\envs\\Qudisg\\lib\\subprocess.py:1299\u001b[0m, in \u001b[0;36mPopen._get_handles\u001b[1;34m(self, stdin, stdout, stderr)\u001b[0m\n\u001b[0;32m   1296\u001b[0m     c2pwrite \u001b[39m=\u001b[39m msvcrt\u001b[39m.\u001b[39mget_osfhandle(stdout)\n\u001b[0;32m   1297\u001b[0m \u001b[39melse\u001b[39;00m:\n\u001b[0;32m   1298\u001b[0m     \u001b[39m# Assuming file-like object\u001b[39;00m\n\u001b[1;32m-> 1299\u001b[0m     c2pwrite \u001b[39m=\u001b[39m msvcrt\u001b[39m.\u001b[39mget_osfhandle(stdout\u001b[39m.\u001b[39;49mfileno())\n\u001b[0;32m   1300\u001b[0m c2pwrite \u001b[39m=\u001b[39m \u001b[39mself\u001b[39m\u001b[39m.\u001b[39m_make_inheritable(c2pwrite)\n\u001b[0;32m   1302\u001b[0m \u001b[39mif\u001b[39;00m stderr \u001b[39mis\u001b[39;00m \u001b[39mNone\u001b[39;00m:\n",
      "File \u001b[1;32mc:\\Users\\USER\\anaconda3\\envs\\Qudisg\\lib\\site-packages\\ipykernel\\iostream.py:311\u001b[0m, in \u001b[0;36mOutStream.fileno\u001b[1;34m(self)\u001b[0m\n\u001b[0;32m    309\u001b[0m     \u001b[39mreturn\u001b[39;00m \u001b[39mself\u001b[39m\u001b[39m.\u001b[39m_original_stdstream_copy\n\u001b[0;32m    310\u001b[0m \u001b[39melse\u001b[39;00m:\n\u001b[1;32m--> 311\u001b[0m     \u001b[39mraise\u001b[39;00m io\u001b[39m.\u001b[39mUnsupportedOperation(\u001b[39m\"\u001b[39m\u001b[39mfileno\u001b[39m\u001b[39m\"\u001b[39m)\n",
      "\u001b[1;31mUnsupportedOperation\u001b[0m: fileno"
     ]
    }
   ],
   "source": [
    "#!/usr/bin/env python3\n",
    "# -*- coding: utf-8 -*-\n",
    "# emacs: -*- mode: python; py-indent-offset: 4; indent-tabs-mode: nil -*-\n",
    "# vi: set ft=python sts=4 ts=4 sw=4 et:\n",
    "\"\"\"\n",
    "Qudi is free software: you can redistribute it and/or modify\n",
    "it under the terms of the GNU General Public License as published by\n",
    "the Free Software Foundation, either version 3 of the License, or\n",
    "(at your option) any later version.\n",
    "\n",
    "Qudi is distributed in the hope that it will be useful,\n",
    "but WITHOUT ANY WARRANTY; without even the implied warranty of\n",
    "MERCHANTABILITY or FITNESS FOR A PARTICULAR PURPOSE.  See the\n",
    "GNU General Public License for more details.\n",
    "\n",
    "You should have received a copy of the GNU General Public License\n",
    "along with Qudi. If not, see <http://www.gnu.org/licenses/>.\n",
    "\n",
    "Copyright (c) the Qudi Developers. See the COPYRIGHT.txt file at the\n",
    "top-level directory of this distribution and at <https://github.com/Ulm-IQO/qudi/>\n",
    "\n",
    "Contains code that used to be distributed under the terms of the Modified BSD License.\n",
    "See documentation/BSDLicense_IPython.md for details.\n",
    "Copyright (c) 2015, IPython Development Team\n",
    "\"\"\"\n",
    "\n",
    "import subprocess\n",
    "import sys\n",
    "import os\n",
    "\n",
    "myenv = os.environ.copy()\n",
    "\n",
    "if sys.platform == 'win32':\n",
    "    from core.util.win_interrupt import create_interrupt_event\n",
    "    # Create a Win32 event for interrupting the kernel and store it in an environment variable.\n",
    "    interrupt_event = create_interrupt_event()\n",
    "    myenv[\"QUDI_INTERRUPT_EVENT\"] = str(interrupt_event)\n",
    "    # try:\n",
    "    from _winapi import DuplicateHandle, GetCurrentProcess, DUPLICATE_SAME_ACCESS, CREATE_NEW_PROCESS_GROUP\n",
    "    # except:\n",
    "    #     from subprocess import DuplicateHandle, GetCurrentProcess, DUPLICATE_SAME_ACCESS, CREATE_NEW_PROCESS_GROUP\n",
    "    pid = GetCurrentProcess()\n",
    "    handle = DuplicateHandle(pid, pid, pid, 0, True, DUPLICATE_SAME_ACCESS)\n",
    "    myenv['QUDI_PARENT_PID'] = str(int(handle))\n",
    "else:\n",
    "    myenv['QUDI_PARENT_PID'] = str(os.getpid())\n",
    "\n",
    "argv = [sys.executable, '-m', 'core'] + sys.argv[1:]\n",
    "\n",
    "while True:\n",
    "    process = subprocess.Popen(\n",
    "        argv,\n",
    "        close_fds=False,\n",
    "        env=myenv,\n",
    "        stdin=sys.stdin,\n",
    "        stdout=sys.stdout,\n",
    "        stderr=sys.stderr,\n",
    "        shell=False)\n",
    "    # if sys.platform == 'win32':\n",
    "    #     # Attach the interrupt event to the Popen objet so it can be used later.\n",
    "    #     process.win32_interrupt_event = interrupt_event\n",
    "    try:\n",
    "        retval = process.wait()\n",
    "        if retval == 0:\n",
    "            break\n",
    "        elif retval == 42:\n",
    "            print('Restarting...')\n",
    "            continue\n",
    "        elif retval == 2:\n",
    "            # invalid commandline argument\n",
    "            break\n",
    "        elif retval == -6:\n",
    "            # called if QFatal occurs\n",
    "            break\n",
    "        elif retval == 4:\n",
    "            print('Import Error: Qudi could not be started due to missing packages.')\n",
    "            sys.exit(retval)\n",
    "        else:\n",
    "            print('Unexpected return value {0}. Exiting.'.format(retval))\n",
    "            sys.exit(retval)\n",
    "    except KeyboardInterrupt:\n",
    "        print('Keyboard Interrupt, quitting!')\n",
    "        break\n",
    "    except:\n",
    "        process.kill()\n",
    "        process.wait()\n",
    "        raise\n"
   ]
  },
  {
   "cell_type": "code",
   "execution_count": null,
   "id": "816d51e6",
   "metadata": {},
   "outputs": [],
   "source": []
  }
 ],
 "metadata": {
  "kernelspec": {
   "display_name": "Python 3.10.4 ('Qudisg')",
   "language": "python",
   "name": "python3"
  },
  "language_info": {
   "codemirror_mode": {
    "name": "ipython",
    "version": 3
   },
   "file_extension": ".py",
   "mimetype": "text/x-python",
   "name": "python",
   "nbconvert_exporter": "python",
   "pygments_lexer": "ipython3",
   "version": "3.10.4"
  },
  "vscode": {
   "interpreter": {
    "hash": "d7f29b461b8830858bad5d4c1fc047e45470d9868bbd4d6e397ceb9bd57947b8"
   }
  }
 },
 "nbformat": 4,
 "nbformat_minor": 5
}
